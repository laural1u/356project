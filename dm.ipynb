{
 "cells": [
  {
   "cell_type": "code",
   "execution_count": 1,
   "id": "6dff80c2",
   "metadata": {},
   "outputs": [],
   "source": [
    "import mysql.connector\n",
    "import matplotlib.pyplot as plt  # To visualize\n",
    "import pandas as pd  # To read data\n",
    "from sklearn.linear_model import LinearRegression"
   ]
  },
  {
   "cell_type": "code",
   "execution_count": 2,
   "id": "896128ac",
   "metadata": {},
   "outputs": [],
   "source": [
    "try:\n",
    "    mydb = mysql.connector.connect(\n",
    "    user=\"root\", password=\"ece356-\", host=\"127.0.0.1\", database=\"c455li\"\n",
    ")\n",
    "    query = \"\"\"\n",
    "    WITH studentGrade AS(\n",
    "    WITH assessmentgrade AS (\n",
    "        SELECT\n",
    "            id_assessment,\n",
    "            id_student,\n",
    "            score\n",
    "        FROM\n",
    "            studentassessment\n",
    "    )\n",
    "    SELECT\n",
    "        assessmentgrade.id_student as 'id_student',\n",
    "        sum((weight / 100 * score)) / sum(weight) as 'grade'\n",
    "    FROM\n",
    "        assessmentgrade\n",
    "        left JOIN assessments on assessmentgrade.id_assessment = assessments.id_assessment\n",
    "    where\n",
    "        weight is not null\n",
    "        and score is not null\n",
    "    GROUP BY\n",
    "        assessmentgrade.id_student\n",
    "),\n",
    "studentUsage as (\n",
    "    select\n",
    "        id_student,\n",
    "        sum(sum_click) as 'total_click'\n",
    "    from\n",
    "        studentvle\n",
    "    group by\n",
    "        id_student\n",
    ")\n",
    "select\n",
    "    studentGrade.id_student as 'id_student',\n",
    "    grade,\n",
    "    total_click\n",
    "FROM\n",
    "    studentGrade\n",
    "    INNER JOIN studentUsage ON studentGrade.id_student = studentUsage.id_student\n",
    "where\n",
    "    grade is not null\n",
    "    and total_click is not null;\n",
    "    \"\"\"\n",
    "    result_dataFrame = pd.read_sql(query,mydb)\n",
    "    mydb.close() #close the connection\n",
    "except Exception as e:\n",
    "    mydb.close()\n",
    "    print(str(e))"
   ]
  },
  {
   "cell_type": "code",
   "execution_count": 3,
   "id": "b4275b3a",
   "metadata": {},
   "outputs": [
    {
     "data": {
      "text/html": [
       "<div>\n",
       "<style scoped>\n",
       "    .dataframe tbody tr th:only-of-type {\n",
       "        vertical-align: middle;\n",
       "    }\n",
       "\n",
       "    .dataframe tbody tr th {\n",
       "        vertical-align: top;\n",
       "    }\n",
       "\n",
       "    .dataframe thead th {\n",
       "        text-align: right;\n",
       "    }\n",
       "</style>\n",
       "<table border=\"1\" class=\"dataframe\">\n",
       "  <thead>\n",
       "    <tr style=\"text-align: right;\">\n",
       "      <th></th>\n",
       "      <th>id_student</th>\n",
       "      <th>grade</th>\n",
       "      <th>total_click</th>\n",
       "    </tr>\n",
       "  </thead>\n",
       "  <tbody>\n",
       "    <tr>\n",
       "      <th>0</th>\n",
       "      <td>11391</td>\n",
       "      <td>0.793333</td>\n",
       "      <td>498.0</td>\n",
       "    </tr>\n",
       "    <tr>\n",
       "      <th>1</th>\n",
       "      <td>31604</td>\n",
       "      <td>0.733333</td>\n",
       "      <td>1027.0</td>\n",
       "    </tr>\n",
       "    <tr>\n",
       "      <th>2</th>\n",
       "      <td>38053</td>\n",
       "      <td>0.756667</td>\n",
       "      <td>1179.0</td>\n",
       "    </tr>\n",
       "    <tr>\n",
       "      <th>3</th>\n",
       "      <td>45642</td>\n",
       "      <td>0.720000</td>\n",
       "      <td>721.0</td>\n",
       "    </tr>\n",
       "    <tr>\n",
       "      <th>4</th>\n",
       "      <td>53025</td>\n",
       "      <td>0.756667</td>\n",
       "      <td>1615.0</td>\n",
       "    </tr>\n",
       "    <tr>\n",
       "      <th>...</th>\n",
       "      <td>...</td>\n",
       "      <td>...</td>\n",
       "      <td>...</td>\n",
       "    </tr>\n",
       "    <tr>\n",
       "      <th>16572</th>\n",
       "      <td>2602542</td>\n",
       "      <td>0.930000</td>\n",
       "      <td>2198.0</td>\n",
       "    </tr>\n",
       "    <tr>\n",
       "      <th>16573</th>\n",
       "      <td>2612102</td>\n",
       "      <td>0.880000</td>\n",
       "      <td>2212.0</td>\n",
       "    </tr>\n",
       "    <tr>\n",
       "      <th>16574</th>\n",
       "      <td>2641156</td>\n",
       "      <td>0.250000</td>\n",
       "      <td>829.0</td>\n",
       "    </tr>\n",
       "    <tr>\n",
       "      <th>16575</th>\n",
       "      <td>2649948</td>\n",
       "      <td>0.680000</td>\n",
       "      <td>1498.0</td>\n",
       "    </tr>\n",
       "    <tr>\n",
       "      <th>16576</th>\n",
       "      <td>2658856</td>\n",
       "      <td>0.700000</td>\n",
       "      <td>1315.0</td>\n",
       "    </tr>\n",
       "  </tbody>\n",
       "</table>\n",
       "<p>16577 rows × 3 columns</p>\n",
       "</div>"
      ],
      "text/plain": [
       "       id_student     grade  total_click\n",
       "0           11391  0.793333        498.0\n",
       "1           31604  0.733333       1027.0\n",
       "2           38053  0.756667       1179.0\n",
       "3           45642  0.720000        721.0\n",
       "4           53025  0.756667       1615.0\n",
       "...           ...       ...          ...\n",
       "16572     2602542  0.930000       2198.0\n",
       "16573     2612102  0.880000       2212.0\n",
       "16574     2641156  0.250000        829.0\n",
       "16575     2649948  0.680000       1498.0\n",
       "16576     2658856  0.700000       1315.0\n",
       "\n",
       "[16577 rows x 3 columns]"
      ]
     },
     "execution_count": 3,
     "metadata": {},
     "output_type": "execute_result"
    }
   ],
   "source": [
    "result_dataFrame"
   ]
  },
  {
   "cell_type": "code",
   "execution_count": 4,
   "id": "28afc36b",
   "metadata": {},
   "outputs": [],
   "source": [
    "X = result_dataFrame['total_click'].values.reshape(-1, 1)\n",
    "Y = result_dataFrame['grade'].values.reshape(-1, 1)\n",
    "linear_regressor = LinearRegression()  # create object for the class\n",
    "linear_regressor.fit(X, Y)  # perform linear regression\n",
    "Y_pred = linear_regressor.predict(X)  # make predictions"
   ]
  },
  {
   "cell_type": "code",
   "execution_count": 5,
   "id": "934586ac",
   "metadata": {},
   "outputs": [
    {
     "name": "stdout",
     "output_type": "stream",
     "text": [
      "Coefficients: \n",
      " [[3.81447933e-05]]\n"
     ]
    }
   ],
   "source": [
    "print(\"Coefficients: \\n\", linear_regressor.coef_)"
   ]
  },
  {
   "cell_type": "code",
   "execution_count": 6,
   "id": "819e1502",
   "metadata": {},
   "outputs": [
    {
     "data": {
      "text/plain": [
       "array([[26215.89772037]])"
      ]
     },
     "execution_count": 6,
     "metadata": {},
     "output_type": "execute_result"
    }
   ],
   "source": [
    "1/linear_regressor.coef_"
   ]
  },
  {
   "cell_type": "code",
   "execution_count": 7,
   "id": "35d1c51b",
   "metadata": {},
   "outputs": [
    {
     "data": {
      "image/png": "[encoded data removed]",
      "text/plain": [
       "<Figure size 432x288 with 1 Axes>"
      ]
     },
     "metadata": {
      "needs_background": "light"
     },
     "output_type": "display_data"
    }
   ],
   "source": [
    "plt.scatter(X, Y)\n",
    "plt.xlabel(\"VLE usage\")\n",
    "plt.ylabel(\"grade\")\n",
    "plt.plot(X, Y_pred, color='red')\n",
    "plt.show()"
   ]
  },
  {
   "cell_type": "code",
   "execution_count": 10,
   "id": "c86d34f5",
   "metadata": {},
   "outputs": [],
   "source": [
    "result_dataFrame.to_csv('result.csv')"
   ]
  }
 ],
 "metadata": {
  "kernelspec": {
   "display_name": "Python 3 (ipykernel)",
   "language": "python",
   "name": "python3"
  },
  "language_info": {
   "codemirror_mode": {
    "name": "ipython",
    "version": 3
   },
   "file_extension": ".py",
   "mimetype": "text/x-python",
   "name": "python",
   "nbconvert_exporter": "python",
   "pygments_lexer": "ipython3",
   "version": "3.8.10"
  }
 },
 "nbformat": 4,
 "nbformat_minor": 5
}
